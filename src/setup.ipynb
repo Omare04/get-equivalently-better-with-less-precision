{
 "cells": [
  {
   "cell_type": "code",
   "execution_count": 8,
   "id": "18c5b446",
   "metadata": {},
   "outputs": [
    {
     "name": "stdout",
     "output_type": "stream",
     "text": [
      "Using device: cuda\n"
     ]
    },
    {
     "name": "stderr",
     "output_type": "stream",
     "text": [
      "Loading checkpoint shards: 100%|██████████| 2/2 [00:00<00:00, 47.51it/s]\n",
      "Some parameters are on the meta device because they were offloaded to the disk and cpu.\n"
     ]
    },
    {
     "name": "stdout",
     "output_type": "stream",
     "text": [
      "Model loaded. 4-bit quantization not applied yet.\n"
     ]
    }
   ],
   "source": [
    "import torch\n",
    "import torch.nn as nn\n",
    "from transformers import AutoModelForCausalLM, AutoTokenizer\n",
    "import bitsandbytes as bnb\n",
    "\n",
    "device = torch.device(\"cuda\" if torch.cuda.is_available() else \"cpu\")\n",
    "print(\"Using device:\", device)\n",
    "\n",
    "model_name = \"Qwen/Qwen2.5-3B\"\n",
    "\n",
    "tokenizer = AutoTokenizer.from_pretrained(model_name, use_fast=False)\n",
    "\n",
    "model = AutoModelForCausalLM.from_pretrained(\n",
    "    model_name,\n",
    "    dtype=torch.bfloat16,  # keep high precision for now\n",
    "    device_map=\"auto\"\n",
    ")\n",
    "\n",
    "print(\"Model loaded. 4-bit quantization not applied yet.\")\n"
   ]
  },
  {
   "cell_type": "code",
   "execution_count": 9,
   "id": "bb112cfc",
   "metadata": {},
   "outputs": [],
   "source": [
    "class LoRALinear(nn.Module):\n",
    "    def __init__(self, in_features, out_features, r=16, alpha=16, dropout=0.05):\n",
    "        super().__init__()\n",
    "        self.r = r\n",
    "        self.alpha = alpha\n",
    "        self.dropout = nn.Dropout(dropout)\n",
    "\n",
    "        # Low-rank trainable matrices\n",
    "        self.A = nn.Parameter(torch.randn(r, in_features) * 0.01)\n",
    "        self.B = nn.Parameter(torch.randn(out_features, r) * 0.01)\n",
    "        self.scaling = alpha / r\n",
    "\n",
    "    def forward(self, x):\n",
    "        delta = self.B @ self.A  # [out_features, in_features]\n",
    "        delta = self.scaling * delta\n",
    "        return self.dropout(x @ delta.T)"
   ]
  },
  {
   "cell_type": "code",
   "execution_count": 10,
   "id": "b12adc42",
   "metadata": {},
   "outputs": [
    {
     "name": "stdout",
     "output_type": "stream",
     "text": [
      "LoRA modules added to attention layers.\n"
     ]
    }
   ],
   "source": [
    "# NOTE: actual Qwen2.5 attention layers may have different naming\n",
    "def add_lora_to_model(model, r=16, alpha=16, dropout=0.05):\n",
    "    for name, module in model.named_modules():\n",
    "        if \"attention\" in name.lower():\n",
    "            if hasattr(module, \"q_proj\"):\n",
    "                module.q_proj_lora = LoRALinear(\n",
    "                    module.q_proj.in_features,\n",
    "                    module.q_proj.out_features,\n",
    "                    r=r,\n",
    "                    alpha=alpha,\n",
    "                    dropout=dropout\n",
    "                )\n",
    "            if hasattr(module, \"v_proj\"):\n",
    "                module.v_proj_lora = LoRALinear(\n",
    "                    module.v_proj.in_features,\n",
    "                    module.v_proj.out_featur,\n",
    "                    es,\n",
    "                    r=r,\n",
    "                    alpha=alpha,\n",
    "                    dropout=dropout\n",
    "                )\n",
    "\n",
    "add_lora_to_model(model)\n",
    "print(\"LoRA modules added to attention layers.\")"
   ]
  },
  {
   "cell_type": "code",
   "execution_count": 11,
   "id": "09490b6e",
   "metadata": {},
   "outputs": [
    {
     "name": "stdout",
     "output_type": "stream",
     "text": [
      "DatasetDict({\n",
      "    train: Dataset({\n",
      "        features: ['sentence', 'label', 'idx'],\n",
      "        num_rows: 67349\n",
      "    })\n",
      "    validation: Dataset({\n",
      "        features: ['sentence', 'label', 'idx'],\n",
      "        num_rows: 872\n",
      "    })\n",
      "    test: Dataset({\n",
      "        features: ['sentence', 'label', 'idx'],\n",
      "        num_rows: 1821\n",
      "    })\n",
      "})\n"
     ]
    }
   ],
   "source": [
    "from datasets import load_dataset\n",
    "\n",
    "dataset = load_dataset(\"glue\", \"sst2\")\n",
    "print(dataset)"
   ]
  },
  {
   "cell_type": "code",
   "execution_count": 12,
   "id": "dfe595cf",
   "metadata": {},
   "outputs": [
    {
     "name": "stdout",
     "output_type": "stream",
     "text": [
      "Notebook setup complete. Training loop placeholder ready.\n"
     ]
    }
   ],
   "source": [
    "# Training Loop\n",
    "# Only a skeleton for now\n",
    "optimizer = torch.optim.AdamW(\n",
    "    filter(lambda p: p.requires_grad, model.parameters()),\n",
    "    lr=1e-4\n",
    ")\n",
    "\n",
    "# TO IMPLEMENT\n",
    "for batch in dataset['train'].select(range(2)):  # only a few examples as placeholder\n",
    "    # TODO: tokenize batch, move to device, compute loss\n",
    "    optimizer.zero_grad()\n",
    "    # loss.backward()\n",
    "    # optimizer.step()\n",
    "    pass\n",
    "\n",
    "print(\"Notebook setup complete. Training loop placeholder ready.\")\n"
   ]
  }
 ],
 "metadata": {
  "kernelspec": {
   "display_name": "MyVenv (3.11.13)",
   "language": "python",
   "name": "python3"
  },
  "language_info": {
   "codemirror_mode": {
    "name": "ipython",
    "version": 3
   },
   "file_extension": ".py",
   "mimetype": "text/x-python",
   "name": "python",
   "nbconvert_exporter": "python",
   "pygments_lexer": "ipython3",
   "version": "3.11.13"
  }
 },
 "nbformat": 4,
 "nbformat_minor": 5
}
